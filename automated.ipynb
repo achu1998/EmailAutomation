{
 "cells": [
  {
   "cell_type": "code",
   "execution_count": 1,
   "metadata": {},
   "outputs": [],
   "source": [
    "#drivers that needed to be installed to run. Installation setup check README.md\n",
    "\n",
    "from selenium import webdriver\n",
    "import keyboard\n",
    "import time\n",
    "import pyautogui"
   ]
  },
  {
   "cell_type": "code",
   "execution_count": 2,
   "metadata": {},
   "outputs": [],
   "source": [
    "def automate(to, subject, name, body):\n",
    "    \n",
    "    # download chrome driver depending on the version of your chrome browser\n",
    "    driver = webdriver.Chrome(#chromedriver.exe file location)\n",
    "    driver.get('https://stackoverflow.com/users/signup?ssrc=head&returnurl=%2fusers%2fstory%2fcurrent%27')\n",
    "    time.sleep(5)\n",
    "    pyautogui.click(1465, 36)\n",
    "    driver.find_element_by_xpath('/html/body/div[4]/div[2]/div/div[2]/div[2]/button[1]').click()\n",
    "    \n",
    "    #replace \"your email\" with your email id    \n",
    "    driver.find_element_by_xpath('//input[@type=\"email\"]').send_keys(#your email)\n",
    "    driver.find_element_by_xpath('//*[@id=\"identifierNext\"]').click()\n",
    "    time.sleep(5)\n",
    "        \n",
    "    # replace \"Your password\" with your email password    \n",
    "    driver.find_element_by_xpath('//*[@id=\"password\"]/div[1]/div/div[1]/input').send_keys(#your password)\n",
    "    driver.find_element_by_xpath('//*[@id=\"passwordNext\"]').click()\n",
    "    time.sleep(5)\n",
    "    driver.get('https://www.google.com/')\n",
    "    time.sleep(10)\n",
    "    driver.find_element_by_xpath('//*[@id=\"gbw\"]/div/div/div[1]/div[1]/a').click()\n",
    "    time.sleep(2)\n",
    "    driver.find_element_by_xpath('/html/body/div[7]/div[3]/div/div[2]/div[1]/div[1]/div[1]/div/div/div/div[1]/div/div').click()\n",
    "    time.sleep(5)\n",
    "    driver.find_element_by_xpath('//*[@id=\":qo\"]').send_keys(to)\n",
    "    keyboard.press_and_release('Tab')\n",
    "    time.sleep(2)\n",
    "    driver.find_element_by_xpath('//*[@id=\":q6\"]').send_keys(subject)\n",
    "    keyboard.press_and_release('Tab')\n",
    "    time.sleep(2)\n",
    "    keyboard.write(\"Hi\")\n",
    "    if name:\n",
    "        keyboard.write(\" \")\n",
    "        keyboard.write(name)\n",
    "        keyboard.write(\",\\n \\n\")\n",
    "    else:\n",
    "        keyboard.write(',\\n \\n')\n",
    "    keyboard.write(body) \n",
    "    keyboard.write(\"\\n\\n\") \n",
    "    keyboard.write(\"Thanks & Regards,\\n\")\n",
    "    keyboard.write(\"Ashween\")\n",
    "    time.sleep(2)\n",
    "    \n",
    "    # the below lines of code is to add a file with a mail    \n",
    "    driver.find_element_by_xpath('//*[@id=\":ro\"]').click()\n",
    "    time.sleep(5)\n",
    "        \n",
    "    #replace \"Full path of the file\" with the complete path of the file with file name   \n",
    "    keyboard.write(\"#Full path of the file\")\n",
    "    keyboard.press_and_release('Enter')\n",
    "    time.sleep(2)\n",
    "    driver.find_element_by_xpath('//*[@id=\":pw\"]').click()\n",
    "    time.sleep(10)\n",
    "    pyautogui.click(1881, 21)"
   ]
  },
  {
   "cell_type": "code",
   "execution_count": 3,
   "metadata": {},
   "outputs": [
    {
     "name": "stdout",
     "output_type": "stream",
     "text": [
      "To :Your email\n",
      "Subject :You subject\n",
      "Enter Name :This name appends with hi, it can also be blank\n",
      "body :Type body of the message\n"
     ]
    }
   ],
   "source": [
    "# enter to address, subject, name to append with hi, body of the mail\n",
    "\n",
    "to = input(\"To :\")\n",
    "subject = input(\"Subject :\")\n",
    "name = input(\"Enter Name :\")\n",
    "body = input(\"\"\"body :\"\"\")\n",
    "output = automate(to, subject, name, body)"
   ]
  },
  {
   "cell_type": "code",
   "execution_count": null,
   "metadata": {},
   "outputs": [],
   "source": []
  }
 ],
 "metadata": {
  "kernelspec": {
   "display_name": "Python 3",
   "language": "python",
   "name": "python3"
  },
  "language_info": {
   "codemirror_mode": {
    "name": "ipython",
    "version": 3
   },
   "file_extension": ".py",
   "mimetype": "text/x-python",
   "name": "python",
   "nbconvert_exporter": "python",
   "pygments_lexer": "ipython3",
   "version": "3.8.2"
  }
 },
 "nbformat": 4,
 "nbformat_minor": 4
}
